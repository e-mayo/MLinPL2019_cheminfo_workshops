{
 "cells": [
  {
   "cell_type": "code",
   "execution_count": null,
   "metadata": {},
   "outputs": [],
   "source": [
    "import numpy as np\n",
    "import pandas as pd\n",
    "\n",
    "from sklearn.metrics import mean_squared_error\n",
    "from sklearn.model_selection import ParameterGrid\n",
    "from sklearn.utils import shuffle\n",
    "\n",
    "import torch\n",
    "import torch.nn.functional as F\n",
    "\n",
    "from torch_geometric.data import Data\n",
    "from torch_geometric.data import DataLoader\n",
    "\n",
    "from torch_geometric.nn import MessagePassing, global_mean_pool\n",
    "from torch_geometric.utils import add_self_loops, degree\n",
    "\n",
    "from src.data_utils import load_dataset"
   ]
  },
  {
   "cell_type": "markdown",
   "metadata": {},
   "source": [
    "# Scope of the notebook"
   ]
  },
  {
   "cell_type": "markdown",
   "metadata": {},
   "source": [
    "In this notebook, we will use a Graph Convolutional Neural Network to solve the ESOL regression task.\n",
    "\n",
    "At the beginning you need to take the molecular graph data and transform it to a valid format in order to fit the data to PyTorch geometric layers.\n",
    "\n",
    "Then, you will have to implement a \"vanilla\" graph convolutional layer, define the network module that uses this layer and train it, using predefined hyperparameters.\n",
    "\n",
    "At the end, you will have to make a random search of hyperparameters in order to obtain the best possible prediction score.\n",
    "\n",
    "As the training loss and scoring function we will use mean squared error (MSE)."
   ]
  },
  {
   "cell_type": "code",
   "execution_count": null,
   "metadata": {},
   "outputs": [],
   "source": []
  },
  {
   "cell_type": "markdown",
   "metadata": {},
   "source": [
    "# Load the dataset"
   ]
  },
  {
   "cell_type": "code",
   "execution_count": null,
   "metadata": {},
   "outputs": [],
   "source": [
    "path = './data/'\n",
    "target_name = 'ESOL'\n",
    "batch_size = 32\n",
    "task = 'regression'\n",
    "\n",
    "train_dataset = load_dataset(path, target_name, 'train')\n",
    "valid_dataset = load_dataset(path, target_name, 'val')\n",
    "test_dataset = load_dataset(path, target_name, 'test')"
   ]
  },
  {
   "cell_type": "code",
   "execution_count": null,
   "metadata": {},
   "outputs": [],
   "source": []
  },
  {
   "cell_type": "markdown",
   "metadata": {},
   "source": [
    "# Create data loaders for pytorch geometric"
   ]
  },
  {
   "cell_type": "markdown",
   "metadata": {},
   "source": [
    "Every molecule in our dataset is now represented by a 3-tuple which consists of:\n",
    " - Adjacency matrix $\\in \\mathbb{M}$(n_atoms, n_atoms)\n",
    " - Atom features matrix $\\in \\mathbb{M}$(n_atoms, n_features)\n",
    " - Label (ESOL value)\n",
    " \n",
    "[PyTorch Geometric requires a different form of the data](https://pytorch-geometric.readthedocs.io/en/latest/modules/data.html#module-torch_geometric.data). \n",
    "\n",
    "Please write the function that transforms the data into the correct format:\n",
    " - Atom features matrix $\\in \\mathbb{M}$(n_atoms, n_features) - denoted by *x*\n",
    " - Label (ESOL value) - denoted by *y*\n",
    " - Edge indices matrix $\\in \\mathbb{M}$(2, n_edges) - denoted by *edge_index*"
   ]
  },
  {
   "cell_type": "code",
   "execution_count": null,
   "metadata": {},
   "outputs": [],
   "source": [
    "def transform_dataset_pg(dataset):\n",
    "    # TODO\n",
    "    pass"
   ]
  },
  {
   "cell_type": "code",
   "execution_count": null,
   "metadata": {},
   "outputs": [],
   "source": [
    "train_dataset = transform_dataset_pg(train_dataset)\n",
    "valid_dataset = transform_dataset_pg(valid_dataset)\n",
    "test_dataset = transform_dataset_pg(test_dataset)"
   ]
  },
  {
   "cell_type": "code",
   "execution_count": null,
   "metadata": {},
   "outputs": [],
   "source": [
    "train_loader = DataLoader(train_dataset, batch_size=64, shuffle=True)\n",
    "valid_loader = DataLoader(valid_dataset, batch_size=64)\n",
    "test_loader = DataLoader(test_dataset, batch_size=64)"
   ]
  },
  {
   "cell_type": "code",
   "execution_count": null,
   "metadata": {},
   "outputs": [],
   "source": []
  },
  {
   "cell_type": "markdown",
   "metadata": {},
   "source": [
    "# Define the vanilla GCN layer"
   ]
  },
  {
   "cell_type": "markdown",
   "metadata": {},
   "source": [
    "Please write a vanilla graph convolutional layer that inherits from [MessagePassing layer](https://pytorch-geometric.readthedocs.io/en/latest/modules/nn.html#torch_geometric.nn.conv.message_passing.MessagePassing).\n",
    "\n",
    "For every atom it should take all its neighbours and then:\n",
    "1. Apply a linear layer on their feature vectors\n",
    "2. Apply a ReLU nonlinearity\n",
    "3. Aggregate information by taking the mean value of the feature vectors of all neighbours.\n",
    "\n",
    "i.e. $x^{k}_{i} = \\frac{1}{|N(i)|} \\sum_{j \\in N(i)} \\text{ReLU}(Wx_{j} + b)$, where $N(i) = \\{ j\\ |\\ (i, j) \\in E \\}$\n",
    "\n",
    "Reminder: Make sure that self loops are included in the adjacency matrix."
   ]
  },
  {
   "cell_type": "code",
   "execution_count": null,
   "metadata": {},
   "outputs": [],
   "source": [
    "class Vanilla_GC_Layer(MessagePassing):\n",
    "    # TODO\n",
    "    pass"
   ]
  },
  {
   "cell_type": "code",
   "execution_count": null,
   "metadata": {},
   "outputs": [],
   "source": []
  },
  {
   "cell_type": "markdown",
   "metadata": {},
   "source": [
    "# Create and train GC"
   ]
  },
  {
   "cell_type": "markdown",
   "metadata": {},
   "source": [
    "Please define a class for the Graph Convolutional Network that uses our predefined `Vanilla_GC_Layer`. For the input graph, network should:\n",
    "1. Pass it through some number of GC layers\n",
    "2. Aggregate information from the whole molecule, by applying global mean pooling\n",
    "3. Pass the graph embedding into the linear layer that returns the predicted value\n",
    "\n",
    "In the class definition you should include the following network hyperparameters:\n",
    " - *layers_num* - number of Graph Convolutional layers\n",
    " - *model_dim* - dimensionality of the model inner representation\n",
    " - *input_dim* - dimensionality of the input atom representation\n",
    " - *output_dim*  - dimensionality of the output vector"
   ]
  },
  {
   "cell_type": "code",
   "execution_count": null,
   "metadata": {},
   "outputs": [],
   "source": [
    "class GraphConvNetwork(torch.nn.Module):\n",
    "    # TODO\n",
    "    pass"
   ]
  },
  {
   "cell_type": "markdown",
   "metadata": {},
   "source": [
    "Define the following functions for training and validating our network:\n",
    "\n",
    "1. Function **train** that trains the model for a given number of epochs. The function takes the *model* and *optimizer* as parameters. For every epoch step it runs the *run_epoch* function and then it calculates the MSE loss for the valid data.  \n",
    "\n",
    "2. Function **run_epoch** that trains the model for a single epoch step.  The function takes the *model*, *optimizer* and *data_loader* as parameters. It should return the train loss for the given epoch.\n",
    "\n",
    "3. Function **valid** that calculates the scoring function - mean squared error for the given dataset. The function takes the *model* and *data_loader* as parameters. It should return the calculated MSE score.\n",
    "\n",
    "With such functions definitions, parts of the code could be re-used in the next sections of the notebook."
   ]
  },
  {
   "cell_type": "code",
   "execution_count": null,
   "metadata": {},
   "outputs": [],
   "source": [
    "def train(model, optimizer):\n",
    "    for epoch in range(epochs_num):\n",
    "        epoch_train_loss = run_epoch(model, optimizer, train_loader)\n",
    "        epoch_valid_loss = valid(model, valid_loader)\n",
    "        print(f'Epoch: {epoch}, train loss: {epoch_train_loss}, valid loss: {epoch_valid_loss}')\n",
    "    \n",
    "    test_loss = valid(model, test_loader)\n",
    "    print(f'End of training, test loss: {test_loss}')\n",
    "\n",
    "        \n",
    "def run_epoch(model, optimizer, data_loader):\n",
    "    # TODO\n",
    "    pass\n",
    "\n",
    "\n",
    "def valid(model, data_loader):\n",
    "    # TODO\n",
    "    pass"
   ]
  },
  {
   "cell_type": "code",
   "execution_count": null,
   "metadata": {},
   "outputs": [],
   "source": [
    "# Set some default network hyperparameters\n",
    "device = torch.device('cuda' if torch.cuda.is_available() else 'cpu')\n",
    "\n",
    "layers_num = 3\n",
    "model_dim = 32\n",
    "input_dim = train_dataset[0].x.shape[1]\n",
    "output_dim = train_dataset[0].y.shape[0]\n",
    "\n",
    "lr = 0.0001\n",
    "epochs_num = 100"
   ]
  },
  {
   "cell_type": "code",
   "execution_count": null,
   "metadata": {},
   "outputs": [],
   "source": [
    "# Define the model and the optimizer\n",
    "model = GraphConvNetwork(\n",
    "            layers_num=layers_num, \n",
    "            model_dim=model_dim, \n",
    "            input_dim=input_dim, \n",
    "            output_dim=output_dim).to(device)\n",
    "                   \n",
    "optimizer = torch.optim.Adam(model.parameters(), lr=lr)"
   ]
  },
  {
   "cell_type": "code",
   "execution_count": null,
   "metadata": {
    "scrolled": true
   },
   "outputs": [],
   "source": [
    "# Train the network!\n",
    "train(model, optimizer)"
   ]
  },
  {
   "cell_type": "code",
   "execution_count": null,
   "metadata": {},
   "outputs": [],
   "source": []
  },
  {
   "cell_type": "markdown",
   "metadata": {},
   "source": [
    "# Hyperparameter search to obtain better results"
   ]
  },
  {
   "cell_type": "code",
   "execution_count": null,
   "metadata": {},
   "outputs": [],
   "source": [
    "# The function that takes the given number of random samples \n",
    "# from a given hyperparameters distributions.\n",
    "def make_params_grid(params, max_parameter_sets, randomize=True):\n",
    "    to_list = lambda x: [x] if not isinstance(x, Iterable) else x\n",
    "    params = {k: to_list(v) for k, v in params.items()}\n",
    "    if randomize:\n",
    "        grid = shuffle(ParameterGrid(params))\n",
    "        return grid[:max_parameter_sets]\n",
    "    return ParameterGrid(params)"
   ]
  },
  {
   "cell_type": "markdown",
   "metadata": {},
   "source": [
    "In our experiment we will look for the best setting of the following hyperparameters:\n",
    " - learning rate\n",
    " - epochs_num\n",
    " - batch_size\n",
    " - layers_num\n",
    " - model_dim\n",
    "\n",
    "\n",
    "You should define a function that searches for the best set of hyperparameters from a predefined distribution. \n",
    "\n",
    "1. The function **train_for_params** creates and trains the model for a single hyperparameters setting. The function takes *params* as parameters. It should:\n",
    "    1. Define the data loaders (as they need the *batch_size* parameter that we just sampled).\n",
    "    2. Define the network (as it needs the *layers_num* and *model_dim* parameters that we just sampled).\n",
    "    3. Define the optimizer (as it needs the *learning_rate* parameter that we just sampled).\n",
    "    4. Train the network with a given optimizer and data loaders, for a given number of epochs (*epochs_num* parameter that we just sampled) - here you can reuse the *run_epoch* function.\n",
    "    5. Test the trained model on valid data (you can also calculate the MSE on test data there, to make your work easier).\n",
    "    6. Return the valid and test loss for the given hyperparameters setting.\n",
    "\n",
    "2. The function **grid_search** looks for the best hyperparameters setting for a given number of trials. The function takes *param_grid* and *max_parameter_sets* as arguments. For a single step, it should take the sampled hyperparameters, call the function *train_for_params* and save the validation score of the resulted model. At the end, it should take the best model selected by finding the lowest validation score and return the test score for the chosen model."
   ]
  },
  {
   "cell_type": "code",
   "execution_count": null,
   "metadata": {},
   "outputs": [],
   "source": [
    "def train_for_params(params):\n",
    "    # TODO\n",
    "    pass\n",
    "\n",
    "\n",
    "def grid_search(param_grid, max_parameter_sets):\n",
    "    # TODO\n",
    "    pass"
   ]
  },
  {
   "cell_type": "code",
   "execution_count": null,
   "metadata": {},
   "outputs": [],
   "source": [
    "# Define the params grid for our random search and set the maximum number of trials\n",
    "param_grid = {\n",
    "                'lr': [0.01, 0.005, 0.001, 0.0005, 0.0001, 0.00005, 0.00001],\n",
    "                'epochs_num': [20, 50, 100, 200],\n",
    "                'batch_size': [16, 32, 64, 128],\n",
    "                'layers_num': [1, 2, 4, 6, 8],\n",
    "                'model_dim': [16, 32, 64, 128, 256, 512],\n",
    "             }\n",
    "\n",
    "max_parameter_sets = 50"
   ]
  },
  {
   "cell_type": "code",
   "execution_count": null,
   "metadata": {},
   "outputs": [],
   "source": [
    "# Search for the best model!\n",
    "grid_search(param_grid=param_grid, max_parameter_sets=50)"
   ]
  },
  {
   "cell_type": "code",
   "execution_count": null,
   "metadata": {},
   "outputs": [],
   "source": []
  },
  {
   "cell_type": "markdown",
   "metadata": {},
   "source": [
    "# Test other network settings"
   ]
  },
  {
   "cell_type": "markdown",
   "metadata": {},
   "source": [
    "In order to to obtain the best possible score, you could experiment with other network settings, such as:\n",
    " - Adding dropout\n",
    " - Adding residual connections\n",
    " - Using different types of graph convolutional layer\n",
    " - Using different aggregation types\n",
    " - Adding more layer after the aggregation\n",
    " - Extending the grid, that we used for hyperparameters search"
   ]
  },
  {
   "cell_type": "code",
   "execution_count": null,
   "metadata": {},
   "outputs": [],
   "source": []
  }
 ],
 "metadata": {
  "kernelspec": {
   "display_name": "Python 3",
   "language": "python",
   "name": "python3"
  },
  "language_info": {
   "codemirror_mode": {
    "name": "ipython",
    "version": 3
   },
   "file_extension": ".py",
   "mimetype": "text/x-python",
   "name": "python",
   "nbconvert_exporter": "python",
   "pygments_lexer": "ipython3",
   "version": "3.6.7"
  }
 },
 "nbformat": 4,
 "nbformat_minor": 2
}
